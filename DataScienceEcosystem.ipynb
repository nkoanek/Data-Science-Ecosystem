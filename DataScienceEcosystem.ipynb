{
 "cells": [
  {
   "cell_type": "markdown",
   "id": "5a251581-a979-4c6d-985a-65b7ca9481ba",
   "metadata": {},
   "source": [
    "# Data Science Tools and Ecosystem"
   ]
  },
  {
   "cell_type": "markdown",
   "id": "61b48894-ca19-4b0e-8c9b-9763358c4b9c",
   "metadata": {},
   "source": [
    "## Author\n",
    "Nkoane Kupa"
   ]
  },
  {
   "cell_type": "code",
   "execution_count": null,
   "id": "58474c16-bad3-4191-b71f-014761c94008",
   "metadata": {},
   "outputs": [],
   "source": []
  },
  {
   "cell_type": "markdown",
   "id": "5882cedf-53f7-425c-8191-78605710b804",
   "metadata": {},
   "source": [
    "In this notebook, Data Science Tools and Ecosystem are summarized"
   ]
  },
  {
   "cell_type": "markdown",
   "id": "dcc0aa25-18ff-4d82-a2c7-427a19a6d9a0",
   "metadata": {},
   "source": [
    "__Objectives:__\n",
    "\n",
    "* python\n",
    "* Julia\n",
    "* R\n",
    "\n",
    "\n"
   ]
  },
  {
   "cell_type": "markdown",
   "id": "82738568-22a1-490c-b3d3-8d9a54d4f6b2",
   "metadata": {},
   "source": [
    "Some of the popular languages that Data Scientists use are:\n",
    "\n",
    "Python\n",
    "R\n",
    "Julia\n",
    "\n",
    "Scala\n",
    "Java\n"
   ]
  },
  {
   "cell_type": "raw",
   "id": "623d7397-3abb-4c49-918c-db3d2dc6113d",
   "metadata": {},
   "source": [
    "|Data Science Tools|\n",
    "|------------------|\n",
    "| Jupiter Notebook |\n",
    "| R Studio         |\n",
    "| Spyder           |\n",
    "\n",
    "\n",
    "\n"
   ]
  },
  {
   "cell_type": "markdown",
   "id": "399225bd-5bea-4a83-a320-9282220f20de",
   "metadata": {},
   "source": [
    "\n",
    "### Below are few examples of evaluating arthmetic expressions in Python\n",
    "\n"
   ]
  },
  {
   "cell_type": "code",
   "execution_count": 1,
   "id": "9b8661ab-b1d8-46a8-bd7f-9280c49397ae",
   "metadata": {},
   "outputs": [
    {
     "data": {
      "text/plain": [
       "17"
      ]
     },
     "execution_count": 1,
     "metadata": {},
     "output_type": "execute_result"
    }
   ],
   "source": [
    "# This a simple arithmetic expression to multiply then add integers\n",
    "(3*4) +5"
   ]
  },
  {
   "cell_type": "code",
   "execution_count": 3,
   "id": "8fe174c0-5ad3-48f2-b221-bc56d8b80b53",
   "metadata": {},
   "outputs": [
    {
     "data": {
      "text/plain": [
       "3.3333333333333335"
      ]
     },
     "execution_count": 3,
     "metadata": {},
     "output_type": "execute_result"
    }
   ],
   "source": [
    "# This will convert 200 minutes to hours by dividing by 60\n",
    "200/60"
   ]
  },
  {
   "cell_type": "code",
   "execution_count": null,
   "id": "b8197c9d-60ba-4dfe-a237-4161f15937b5",
   "metadata": {},
   "outputs": [],
   "source": []
  },
  {
   "cell_type": "code",
   "execution_count": null,
   "id": "8396dbdb-ed3a-4b3c-a167-4edc72b0ad18",
   "metadata": {},
   "outputs": [],
   "source": []
  }
 ],
 "metadata": {
  "kernelspec": {
   "display_name": "Python 3 (ipykernel)",
   "language": "python",
   "name": "python3"
  },
  "language_info": {
   "codemirror_mode": {
    "name": "ipython",
    "version": 3
   },
   "file_extension": ".py",
   "mimetype": "text/x-python",
   "name": "python",
   "nbconvert_exporter": "python",
   "pygments_lexer": "ipython3",
   "version": "3.12.4"
  }
 },
 "nbformat": 4,
 "nbformat_minor": 5
}
